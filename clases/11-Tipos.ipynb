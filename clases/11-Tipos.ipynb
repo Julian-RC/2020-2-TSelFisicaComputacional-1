{
 "cells": [
  {
   "cell_type": "markdown",
   "metadata": {},
   "source": [
    "# Tipos/Estructuras en Julia\n",
    "\n",
    "Vimos que **todo**, en Julia, tiene asociado un tipo o estructura. Aquí veremos varias formas de crear tipos que se acomoden a lo que necesitamos, y algunos trucos para que la ejecución sea rápida. La importancia de los tipos radica, como vimos, en el hecho que la elección del método depende del tipo de sus argumentos.\n",
    "\n",
    "La convención a la hora de definir tipos es que estén escritos en estilo de \"camello\", es decir, en que la primer letra de cada palabra empieza en mayúscula. Por ejemplo, tenemos `Float64`, `AbstractFloat`.\n",
    "\n",
    "Es importante decir que los tipos **no** pueden ser redefinidos o sobreescritos en una sesión de Julia; para hacerlo, hay que iniciar una nueva sesión o reiniciar el Kernel (para el Jupyter notebook).\n",
    "\n",
    "## Tipos inmutables y constructores internos"
   ]
  },
  {
   "cell_type": "code",
   "execution_count": 1,
   "metadata": {},
   "outputs": [],
   "source": [
    "struct MiTipo end"
   ]
  },
  {
   "cell_type": "markdown",
   "metadata": {},
   "source": [
    "Para crear un objeto del tipo `MiTipo` se requiere un *constructor*, que sencillamente es una función que devuelve un objeto del tipo especificado."
   ]
  },
  {
   "cell_type": "code",
   "execution_count": 2,
   "metadata": {},
   "outputs": [
    {
     "data": {
      "text/html": [
       "# 1 method for type constructor:<ul><li> MiTipo() in Main at In[1]:1</li> </ul>"
      ],
      "text/plain": [
       "# 1 method for type constructor:\n",
       "[1] MiTipo() in Main at In[1]:1"
      ]
     },
     "execution_count": 2,
     "metadata": {},
     "output_type": "execute_result"
    }
   ],
   "source": [
    "methods(MiTipo)"
   ]
  },
  {
   "cell_type": "markdown",
   "metadata": {},
   "source": [
    "La estructura que acabamos de definir **no** contiene ningún tipo de datos, por lo que se llama \"singleton\". Este tipo de estructuras se utilizan para cuestiones de *dispatch*."
   ]
  },
  {
   "cell_type": "code",
   "execution_count": 3,
   "metadata": {},
   "outputs": [
    {
     "data": {
      "text/plain": [
       "MiTipo()"
      ]
     },
     "execution_count": 3,
     "metadata": {},
     "output_type": "execute_result"
    }
   ],
   "source": [
    "mt = MiTipo()"
   ]
  },
  {
   "cell_type": "code",
   "execution_count": 4,
   "metadata": {},
   "outputs": [
    {
     "data": {
      "text/plain": [
       "MiTipo"
      ]
     },
     "execution_count": 4,
     "metadata": {},
     "output_type": "execute_result"
    }
   ],
   "source": [
    "typeof(mt)"
   ]
  },
  {
   "cell_type": "code",
   "execution_count": 5,
   "metadata": {},
   "outputs": [
    {
     "data": {
      "text/plain": [
       "true"
      ]
     },
     "execution_count": 5,
     "metadata": {},
     "output_type": "execute_result"
    }
   ],
   "source": [
    "mt isa MiTipo"
   ]
  },
  {
   "cell_type": "markdown",
   "metadata": {},
   "source": [
    "En general, cuando definimos un tipo nuevo es para que contenga cierto tipo de datos."
   ]
  },
  {
   "cell_type": "code",
   "execution_count": 6,
   "metadata": {},
   "outputs": [],
   "source": [
    "struct Partic1d\n",
    "    x :: Float64\n",
    "    v :: Float64\n",
    "end"
   ]
  },
  {
   "cell_type": "markdown",
   "metadata": {},
   "source": [
    "Por cuestiones de eficiencia es conveniente que los tipos sean concretos; uno puede definir tipos con parámetros, como veremos más adelante. \n",
    "\n",
    "Es importante aclarar que las distintas componentes de un tipo pueden tener distintos tipos asociados.\n",
    "\n",
    "El método que por default crea a un objeto tipo `Partic1d` requiere que especifiquemos *en el mismo orden* todos los *campos* que lo componen."
   ]
  },
  {
   "cell_type": "code",
   "execution_count": 7,
   "metadata": {},
   "outputs": [
    {
     "data": {
      "text/plain": [
       "Partic1d(1.0, -2.4)"
      ]
     },
     "execution_count": 7,
     "metadata": {},
     "output_type": "execute_result"
    }
   ],
   "source": [
    "p1 = Partic1d(1.0, -2.4)"
   ]
  },
  {
   "cell_type": "code",
   "execution_count": 8,
   "metadata": {},
   "outputs": [
    {
     "data": {
      "text/plain": [
       "1.0"
      ]
     },
     "execution_count": 8,
     "metadata": {},
     "output_type": "execute_result"
    }
   ],
   "source": [
    "# p1.<TA>\n",
    "p1.x"
   ]
  },
  {
   "cell_type": "markdown",
   "metadata": {},
   "source": [
    "El tipo de estructura que acabamos de crear es *inmutable*, lo que significa que los campos individuales (cuando son *concretos*), no se pueden cambiar."
   ]
  },
  {
   "cell_type": "code",
   "execution_count": 9,
   "metadata": {},
   "outputs": [
    {
     "data": {
      "text/plain": [
       "true"
      ]
     },
     "execution_count": 9,
     "metadata": {},
     "output_type": "execute_result"
    }
   ],
   "source": [
    "isimmutable(p1)"
   ]
  },
  {
   "cell_type": "code",
   "execution_count": 10,
   "metadata": {},
   "outputs": [
    {
     "ename": "ErrorException",
     "evalue": "setfield! immutable struct of type Partic1d cannot be changed",
     "output_type": "error",
     "traceback": [
      "setfield! immutable struct of type Partic1d cannot be changed",
      "",
      "Stacktrace:",
      " [1] setproperty!(::Partic1d, ::Symbol, ::Float64) at ./Base.jl:21",
      " [2] top-level scope at In[10]:1"
     ]
    }
   ],
   "source": [
    "p1.x = 2.0"
   ]
  },
  {
   "cell_type": "markdown",
   "metadata": {},
   "source": [
    "La propiedad de inmutabilidad no es recursiva; así, si un objeto consiste de algún campo que es mutable (por ejemplo, `Array{T,N}`, entonces las componentes individuales de ese campo pueden cambiar."
   ]
  },
  {
   "cell_type": "code",
   "execution_count": 11,
   "metadata": {},
   "outputs": [],
   "source": [
    "struct Partic2d\n",
    "    x :: Array{Float64,1}\n",
    "    v :: Array{Float64,1}\n",
    "    function Partic2d(x :: Array{Float64,1}, v :: Array{Float64,1})\n",
    "        @assert length(x) == length(v) == 2\n",
    "        return new(x, v)\n",
    "    end\n",
    "end"
   ]
  },
  {
   "cell_type": "markdown",
   "metadata": {},
   "source": [
    "La función que aparece en el interior redefine el constructor de default, y se llama *constructor interno*. Hay que notar que *sólo* en este caso se utiliza el comando `new` (ya que el tipo de objeto no existe)."
   ]
  },
  {
   "cell_type": "code",
   "execution_count": 12,
   "metadata": {},
   "outputs": [
    {
     "data": {
      "text/plain": [
       "Partic2d([1.0, 2.5], [1.0, 3.0])"
      ]
     },
     "execution_count": 12,
     "metadata": {},
     "output_type": "execute_result"
    }
   ],
   "source": [
    "p2 = Partic2d([1.0, 2.5], [1.0, 3.0])"
   ]
  },
  {
   "cell_type": "markdown",
   "metadata": {},
   "source": [
    "No se puede cambiar *el objeto en si* (por ser inmutable), pero sí sus componentes."
   ]
  },
  {
   "cell_type": "code",
   "execution_count": 13,
   "metadata": {},
   "outputs": [
    {
     "ename": "ErrorException",
     "evalue": "setfield! immutable struct of type Partic2d cannot be changed",
     "output_type": "error",
     "traceback": [
      "setfield! immutable struct of type Partic2d cannot be changed",
      "",
      "Stacktrace:",
      " [1] setproperty!(::Partic2d, ::Symbol, ::Array{Int64,1}) at ./Base.jl:21",
      " [2] top-level scope at In[13]:1"
     ]
    }
   ],
   "source": [
    "p2.x = [2, 1]"
   ]
  },
  {
   "cell_type": "code",
   "execution_count": 14,
   "metadata": {},
   "outputs": [
    {
     "data": {
      "text/plain": [
       "6.0"
      ]
     },
     "execution_count": 14,
     "metadata": {},
     "output_type": "execute_result"
    }
   ],
   "source": [
    "p2.x[1] = 6.0"
   ]
  },
  {
   "cell_type": "code",
   "execution_count": 15,
   "metadata": {},
   "outputs": [
    {
     "data": {
      "text/plain": [
       "2-element Array{Float64,1}:\n",
       " 2.0\n",
       " 1.0"
      ]
     },
     "execution_count": 15,
     "metadata": {},
     "output_type": "execute_result"
    }
   ],
   "source": [
    "p2.x .= [2, 1]"
   ]
  },
  {
   "cell_type": "code",
   "execution_count": 16,
   "metadata": {},
   "outputs": [
    {
     "data": {
      "text/plain": [
       "Partic2d([2.0, 1.0], [1.0, 3.0])"
      ]
     },
     "execution_count": 16,
     "metadata": {},
     "output_type": "execute_result"
    }
   ],
   "source": [
    "p2"
   ]
  },
  {
   "cell_type": "markdown",
   "metadata": {},
   "source": [
    "## Tipos mutables\n",
    "\n",
    "Todo lo dicho anteriormente se puede extender para definir tipos mutables. La única diferencia es que a la hora de definirlos, debemos usar `mutable struct`."
   ]
  },
  {
   "cell_type": "code",
   "execution_count": 17,
   "metadata": {},
   "outputs": [],
   "source": [
    "mutable struct MPartic2d\n",
    "    x :: Array{Float64,1}\n",
    "    v :: Array{Float64,1}\n",
    "    function MPartic2d(x :: Array{Float64,1}, v :: Array{Float64,1})\n",
    "        @assert length(x) == length(v) == 2\n",
    "        return new(x, v)\n",
    "    end\n",
    "end"
   ]
  },
  {
   "cell_type": "code",
   "execution_count": 18,
   "metadata": {},
   "outputs": [
    {
     "data": {
      "text/plain": [
       "MPartic2d([1.0, 2.5], [1.0, 3.0])"
      ]
     },
     "execution_count": 18,
     "metadata": {},
     "output_type": "execute_result"
    }
   ],
   "source": [
    "mp2 = MPartic2d([1.0, 2.5], [1.0, 3.0])"
   ]
  },
  {
   "cell_type": "code",
   "execution_count": 19,
   "metadata": {},
   "outputs": [
    {
     "data": {
      "text/plain": [
       "2-element Array{Int64,1}:\n",
       " 2\n",
       " 1"
      ]
     },
     "execution_count": 19,
     "metadata": {},
     "output_type": "execute_result"
    }
   ],
   "source": [
    "mp2.x = [2, 1]"
   ]
  },
  {
   "cell_type": "code",
   "execution_count": 20,
   "metadata": {},
   "outputs": [
    {
     "data": {
      "text/plain": [
       "MPartic2d([2.0, 1.0], [1.0, 3.0])"
      ]
     },
     "execution_count": 20,
     "metadata": {},
     "output_type": "execute_result"
    }
   ],
   "source": [
    "mp2"
   ]
  },
  {
   "cell_type": "markdown",
   "metadata": {},
   "source": [
    "## Constructores paramétricos\n",
    "\n",
    "En ocasiones uno quiere definir estructuras que operen con distinto tipo de entradas. Un ejemplo son los vectores: tenemos `Array{Int,1}` y *también* `Array{Float64,1}`, e incluso `Array{Float64 2}`. \n",
    "\n",
    "En el ejemplo anterior, `Partic2d` la definimos con campos que son vectores `Array{Float64,1}`, por lo que usar otro tipo de vectores da un error."
   ]
  },
  {
   "cell_type": "code",
   "execution_count": 22,
   "metadata": {},
   "outputs": [
    {
     "ename": "MethodError",
     "evalue": "MethodError: no method matching Partic2d(::Array{Int64,1}, ::Array{Int64,1})",
     "output_type": "error",
     "traceback": [
      "MethodError: no method matching Partic2d(::Array{Int64,1}, ::Array{Int64,1})",
      "",
      "Stacktrace:",
      " [1] top-level scope at In[22]:1"
     ]
    }
   ],
   "source": [
    "Partic2d([1, 2], [1, 3])"
   ]
  },
  {
   "cell_type": "markdown",
   "metadata": {},
   "source": [
    "En principio uno *podría* usar en la definición de los campos que componen al tipo, tipos abstractos, como `Real`. Sin embargo, dado que el compilador *no* conoce la estructura en memoria de tipos abstractos, el código será ineficiente. Un ejemplo de código ineficiente, entonces, sería:\n",
    "    ```julia\n",
    "    struct Partic3d\n",
    "        x :: Array{Real,1}\n",
    "        v :: Array{Real,1}\n",
    "    end\n",
    "    ```\n",
    "\n",
    "La alternativa es definir estructuras *paramétricas*, donde precisamente el parámetro es un tipo concreto (sin especificar) que es subtipo de algún tipo abstracto."
   ]
  },
  {
   "cell_type": "code",
   "execution_count": 23,
   "metadata": {},
   "outputs": [],
   "source": [
    "struct Partic3d{T <: Real}\n",
    "    x :: Array{T,1}\n",
    "    v :: Array{T,1}\n",
    "    function Partic3d(x :: Array{T,1}, v :: Array{T,1}) where {T}\n",
    "        @assert length(x) == length(v) == 3\n",
    "        return new{T}(x, v)\n",
    "    end\n",
    "end"
   ]
  },
  {
   "cell_type": "markdown",
   "metadata": {},
   "source": [
    "En cierto sentido, en la definición anterior de `Partic3d{T}` la `T` adquiere un tipo concreto que es la que se utiliza en los campos donde se requiere especificar."
   ]
  },
  {
   "cell_type": "code",
   "execution_count": 24,
   "metadata": {},
   "outputs": [
    {
     "data": {
      "text/plain": [
       "Partic3d{Int64}([1, 2, 3], [2, 3, 4])"
      ]
     },
     "execution_count": 24,
     "metadata": {},
     "output_type": "execute_result"
    }
   ],
   "source": [
    "Partic3d([1,2,3], [2,3,4])"
   ]
  },
  {
   "cell_type": "code",
   "execution_count": 25,
   "metadata": {},
   "outputs": [
    {
     "data": {
      "text/plain": [
       "Partic3d{Float64}([1.5, 2.0, 3.0], [2.5, 3.0, 4.0])"
      ]
     },
     "execution_count": 25,
     "metadata": {},
     "output_type": "execute_result"
    }
   ],
   "source": [
    "Partic3d([1.5,2,3], [2.5,3,4])"
   ]
  },
  {
   "cell_type": "code",
   "execution_count": 26,
   "metadata": {},
   "outputs": [
    {
     "ename": "MethodError",
     "evalue": "MethodError: no method matching Partic3d(::Array{Int64,1}, ::Array{Float64,1})\nClosest candidates are:\n  Partic3d(::Array{T,1}, !Matched::Array{T,1}) where T at In[23]:5",
     "output_type": "error",
     "traceback": [
      "MethodError: no method matching Partic3d(::Array{Int64,1}, ::Array{Float64,1})\nClosest candidates are:\n  Partic3d(::Array{T,1}, !Matched::Array{T,1}) where T at In[23]:5",
      "",
      "Stacktrace:",
      " [1] top-level scope at In[26]:1"
     ]
    }
   ],
   "source": [
    "Partic3d([1,2,3],[2.5,3,4])"
   ]
  },
  {
   "cell_type": "markdown",
   "metadata": {},
   "source": [
    "Dado el árbol de tipos, uno puede lograr a partir del propio diseño del tipo, cierta clase de sobrecarga de operadores, y por lo mismo, la posibilidad de aplicar ciertas funciones a la estructura que hemos creado. Esta propiedad se aplica a todos los tipos que uno define; si uno no especifica el supertipo, éste se considera `Any`."
   ]
  },
  {
   "cell_type": "code",
   "execution_count": 27,
   "metadata": {},
   "outputs": [],
   "source": [
    "struct MiVector2d{T <: Real} <: AbstractArray{T,1}\n",
    "    x :: T\n",
    "    y :: T\n",
    "end"
   ]
  },
  {
   "cell_type": "code",
   "execution_count": 28,
   "metadata": {},
   "outputs": [
    {
     "ename": "MethodError",
     "evalue": "MethodError: no method matching size(::MiVector2d{Int64})\nClosest candidates are:\n  size(::AbstractArray{T,N}, !Matched::Any) where {T, N} at abstractarray.jl:38\n  size(!Matched::BitArray{1}) at bitarray.jl:77\n  size(!Matched::BitArray{1}, !Matched::Integer) at bitarray.jl:81\n  ...",
     "output_type": "error",
     "traceback": [
      "MethodError: no method matching size(::MiVector2d{Int64})\nClosest candidates are:\n  size(::AbstractArray{T,N}, !Matched::Any) where {T, N} at abstractarray.jl:38\n  size(!Matched::BitArray{1}) at bitarray.jl:77\n  size(!Matched::BitArray{1}, !Matched::Integer) at bitarray.jl:81\n  ...",
      "",
      "Stacktrace:",
      " [1] axes at ./abstractarray.jl:75 [inlined]",
      " [2] summary(::IOContext{Base.GenericIOBuffer{Array{UInt8,1}}}, ::MiVector2d{Int64}) at ./show.jl:1877",
      " [3] show(::IOContext{Base.GenericIOBuffer{Array{UInt8,1}}}, ::MIME{Symbol(\"text/plain\")}, ::MiVector2d{Int64}) at ./arrayshow.jl:316",
      " [4] limitstringmime(::MIME{Symbol(\"text/plain\")}, ::MiVector2d{Int64}) at /home/rakshasa/.julia/packages/IJulia/fXyGm/src/inline.jl:43",
      " [5] display_mimestring(::MIME{Symbol(\"text/plain\")}, ::MiVector2d{Int64}) at /home/rakshasa/.julia/packages/IJulia/fXyGm/src/display.jl:67",
      " [6] display_dict(::MiVector2d{Int64}) at /home/rakshasa/.julia/packages/IJulia/fXyGm/src/display.jl:96",
      " [7] #invokelatest#1 at ./essentials.jl:709 [inlined]",
      " [8] invokelatest at ./essentials.jl:708 [inlined]",
      " [9] execute_request(::ZMQ.Socket, ::IJulia.Msg) at /home/rakshasa/.julia/packages/IJulia/fXyGm/src/execute_request.jl:112",
      " [10] #invokelatest#1 at ./essentials.jl:709 [inlined]",
      " [11] invokelatest at ./essentials.jl:708 [inlined]",
      " [12] eventloop(::ZMQ.Socket) at /home/rakshasa/.julia/packages/IJulia/fXyGm/src/eventloop.jl:8",
      " [13] (::IJulia.var\"#15#18\")() at ./task.jl:333"
     ]
    }
   ],
   "source": [
    "x = MiVector2d(1, 2)"
   ]
  },
  {
   "cell_type": "markdown",
   "metadata": {},
   "source": [
    "El error indica algo *aparentemente* \"no relacionado\" con lo que hemos hecho, y que tiene que ver con la visualización de `x`. Notemos, por ejemplo, que `x.x` y `x.y` son lo que deben ser! De hecho, `x` ha sido *definido*."
   ]
  },
  {
   "cell_type": "code",
   "execution_count": 29,
   "metadata": {},
   "outputs": [
    {
     "data": {
      "text/plain": [
       "(1, 2)"
      ]
     },
     "execution_count": 29,
     "metadata": {},
     "output_type": "execute_result"
    }
   ],
   "source": [
    "x.x, x.y"
   ]
  },
  {
   "cell_type": "code",
   "execution_count": 30,
   "metadata": {},
   "outputs": [
    {
     "data": {
      "text/plain": [
       "true"
      ]
     },
     "execution_count": 30,
     "metadata": {},
     "output_type": "execute_result"
    }
   ],
   "source": [
    "isdefined(Main, :x)"
   ]
  },
  {
   "cell_type": "markdown",
   "metadata": {},
   "source": [
    "Para hacernos la vida más sencilla a la hora de visualizar `MiVector2d`, sobrecargaremos `size` y `getindex`, siguiendo la recomendación de [la documentación](https://docs.julialang.org/en/v1.3/manual/interfaces/#man-interface-array-1)."
   ]
  },
  {
   "cell_type": "code",
   "execution_count": 31,
   "metadata": {},
   "outputs": [],
   "source": [
    "import Base: size\n",
    "size(::MiVector2d{T}) where {T} = (2,)\n",
    "\n",
    "function Base.getindex(v::MiVector2d, i::Int)\n",
    "    if i == 1\n",
    "        return v.x\n",
    "    elseif i == 2\n",
    "        return v.y\n",
    "    else\n",
    "        throw(AssertError)\n",
    "    end\n",
    "end"
   ]
  },
  {
   "cell_type": "code",
   "execution_count": 32,
   "metadata": {},
   "outputs": [
    {
     "data": {
      "text/plain": [
       "2-element MiVector2d{Int64}:\n",
       " 1\n",
       " 2"
      ]
     },
     "execution_count": 32,
     "metadata": {},
     "output_type": "execute_result"
    }
   ],
   "source": [
    "x"
   ]
  },
  {
   "cell_type": "code",
   "execution_count": 33,
   "metadata": {},
   "outputs": [
    {
     "data": {
      "text/plain": [
       "2-element MiVector2d{Float64}:\n",
       " 1.2\n",
       " 2.1"
      ]
     },
     "execution_count": 33,
     "metadata": {},
     "output_type": "execute_result"
    }
   ],
   "source": [
    "y = MiVector2d(1.2, 2.1)"
   ]
  },
  {
   "cell_type": "markdown",
   "metadata": {},
   "source": [
    "A pesar de que **no** hemos sobrecargado la suma (`:+`), funciona gracias a la estructura de tipo que hemos impuesto a `MiVector2d`."
   ]
  },
  {
   "cell_type": "code",
   "execution_count": 34,
   "metadata": {},
   "outputs": [
    {
     "data": {
      "text/plain": [
       "2-element Array{Float64,1}:\n",
       " 2.2\n",
       " 4.1"
      ]
     },
     "execution_count": 34,
     "metadata": {},
     "output_type": "execute_result"
    }
   ],
   "source": [
    "x + y"
   ]
  },
  {
   "cell_type": "markdown",
   "metadata": {},
   "source": [
    "Sin embargo, hay que notar que el resultado es un `Array{Float64,1}` y no un `MiVector2d{Float64}`. Para logar que el resultado sea del tipo que queremos, sobrecargamos la función `:+`."
   ]
  },
  {
   "cell_type": "code",
   "execution_count": 35,
   "metadata": {},
   "outputs": [],
   "source": [
    "Base.:+(x::MiVector2d, y::MiVector2d) = MiVector2d((x .+ y)...)"
   ]
  },
  {
   "cell_type": "code",
   "execution_count": 36,
   "metadata": {},
   "outputs": [
    {
     "data": {
      "text/plain": [
       "2-element MiVector2d{Float64}:\n",
       " 2.2\n",
       " 4.1"
      ]
     },
     "execution_count": 36,
     "metadata": {},
     "output_type": "execute_result"
    }
   ],
   "source": [
    "x + y"
   ]
  },
  {
   "cell_type": "markdown",
   "metadata": {},
   "source": [
    "Este ejemplo *no* es un ejemplo muy interesante, pero muestra que Julia permite adecuar las cosas a lo que requerimos, y que permite *extender* a Julia para que la interacción sea sencilla."
   ]
  }
 ],
 "metadata": {
  "kernelspec": {
   "display_name": "Julia 1.3.1",
   "language": "julia",
   "name": "julia-1.3"
  },
  "language_info": {
   "file_extension": ".jl",
   "mimetype": "application/julia",
   "name": "julia",
   "version": "1.3.1"
  }
 },
 "nbformat": 4,
 "nbformat_minor": 2
}
